{
 "cells": [
  {
   "cell_type": "code",
   "execution_count": 47,
   "metadata": {},
   "outputs": [],
   "source": [
    "\n",
    "\n",
    "from dotenv import load_dotenv\n",
    "load_dotenv(dotenv_path=\".env.local\")\n",
    "import os \n",
    "from openai import OpenAI\n",
    "from pinecone import Pinecone, ServerlessSpec\n",
    "\n"
   ]
  },
  {
   "cell_type": "code",
   "execution_count": 48,
   "metadata": {},
   "outputs": [
    {
     "name": "stdout",
     "output_type": "stream",
     "text": [
      "Unexpected exception formatting exception. Falling back to standard exception\n"
     ]
    },
    {
     "name": "stderr",
     "output_type": "stream",
     "text": [
      "Traceback (most recent call last):\n",
      "  File \"c:\\Users\\sgale\\miniconda3\\envs\\rateMyProfessor\\Lib\\site-packages\\IPython\\core\\interactiveshell.py\", line 3577, in run_code\n",
      "  File \"C:\\Users\\sgale\\AppData\\Local\\Temp\\ipykernel_12572\\2931132556.py\", line 2, in <module>\n",
      "    pc.create_index(name=\"rag\", dimension=1536, metric=\"cosine\", spec=ServerlessSpec(\"aws\", \"us-east-1\"))\n",
      "  File \"c:\\Users\\sgale\\miniconda3\\envs\\rateMyProfessor\\Lib\\site-packages\\pinecone\\control\\pinecone.py\", line 384, in create_index\n",
      "    api_instance.create_index(\n",
      "  File \"c:\\Users\\sgale\\miniconda3\\envs\\rateMyProfessor\\Lib\\site-packages\\pinecone\\core\\openapi\\shared\\api_client.py\", line 761, in __call__\n",
      "    return self.callable(self, *args, **kwargs)\n",
      "           ^^^^^^^^^^^^^^^^^^^^^^^^^^^^^^^^^^^^\n",
      "  File \"c:\\Users\\sgale\\miniconda3\\envs\\rateMyProfessor\\Lib\\site-packages\\pinecone\\core\\openapi\\control\\api\\manage_indexes_api.py\", line 273, in __create_index\n",
      "    return self.call_with_http_info(**kwargs)\n",
      "           ^^^^^^^^^^^^^^^^^^^^^^^^^^^^^^^^^^\n",
      "  File \"c:\\Users\\sgale\\miniconda3\\envs\\rateMyProfessor\\Lib\\site-packages\\pinecone\\core\\openapi\\shared\\api_client.py\", line 819, in call_with_http_info\n",
      "    return self.api_client.call_api(\n",
      "           ^^^^^^^^^^^^^^^^^^^^^^^^^\n",
      "  File \"c:\\Users\\sgale\\miniconda3\\envs\\rateMyProfessor\\Lib\\site-packages\\pinecone\\core\\openapi\\shared\\api_client.py\", line 380, in call_api\n",
      "    return self.__call_api(\n",
      "           ^^^^^^^^^^^^^^^^\n",
      "  File \"c:\\Users\\sgale\\miniconda3\\envs\\rateMyProfessor\\Lib\\site-packages\\pinecone\\core\\openapi\\shared\\api_client.py\", line 187, in __call_api\n",
      "    raise e\n",
      "  File \"c:\\Users\\sgale\\miniconda3\\envs\\rateMyProfessor\\Lib\\site-packages\\pinecone\\core\\openapi\\shared\\api_client.py\", line 175, in __call_api\n",
      "    response_data = self.request(\n",
      "                    ^^^^^^^^^^^^^\n",
      "  File \"c:\\Users\\sgale\\miniconda3\\envs\\rateMyProfessor\\Lib\\site-packages\\pinecone\\core\\openapi\\shared\\api_client.py\", line 460, in request\n",
      "    return self.rest_client.POST(\n",
      "           ^^^^^^^^^^^^^^^^^^^^^^\n",
      "  File \"c:\\Users\\sgale\\miniconda3\\envs\\rateMyProfessor\\Lib\\site-packages\\pinecone\\core\\openapi\\shared\\rest.py\", line 345, in POST\n",
      "    return self.request(\n",
      "           ^^^^^^^^^^^^^\n",
      "  File \"c:\\Users\\sgale\\miniconda3\\envs\\rateMyProfessor\\Lib\\site-packages\\pinecone\\core\\openapi\\shared\\rest.py\", line 279, in request\n",
      "    raise PineconeApiException(http_resp=r)\n",
      "pinecone.core.openapi.shared.exceptions.PineconeApiException: (409)\n",
      "Reason: Conflict\n",
      "HTTP response headers: HTTPHeaderDict({'content-type': 'text/plain; charset=utf-8', 'access-control-allow-origin': '*', 'vary': 'origin,access-control-request-method,access-control-request-headers', 'access-control-expose-headers': '*', 'x-pinecone-api-version': '2024-07', 'X-Cloud-Trace-Context': '715696e498fa4ca9099306ea4a05a7ba', 'Date': 'Thu, 22 Aug 2024 00:28:24 GMT', 'Server': 'Google Frontend', 'Content-Length': '85', 'Via': '1.1 google', 'Alt-Svc': 'h3=\":443\"; ma=2592000,h3-29=\":443\"; ma=2592000'})\n",
      "HTTP response body: {\"error\":{\"code\":\"ALREADY_EXISTS\",\"message\":\"Resource  already exists\"},\"status\":409}\n",
      "\n",
      "\n",
      "During handling of the above exception, another exception occurred:\n",
      "\n",
      "Traceback (most recent call last):\n",
      "  File \"c:\\Users\\sgale\\miniconda3\\envs\\rateMyProfessor\\Lib\\site-packages\\pygments\\styles\\__init__.py\", line 45, in get_style_by_name\n",
      "ModuleNotFoundError: No module named 'pygments.styles.default'\n",
      "\n",
      "During handling of the above exception, another exception occurred:\n",
      "\n",
      "Traceback (most recent call last):\n",
      "  File \"c:\\Users\\sgale\\miniconda3\\envs\\rateMyProfessor\\Lib\\site-packages\\IPython\\core\\interactiveshell.py\", line 2168, in showtraceback\n",
      "  File \"c:\\Users\\sgale\\miniconda3\\envs\\rateMyProfessor\\Lib\\site-packages\\IPython\\core\\ultratb.py\", line 1454, in structured_traceback\n",
      "  File \"c:\\Users\\sgale\\miniconda3\\envs\\rateMyProfessor\\Lib\\site-packages\\IPython\\core\\ultratb.py\", line 1345, in structured_traceback\n",
      "  File \"c:\\Users\\sgale\\miniconda3\\envs\\rateMyProfessor\\Lib\\site-packages\\IPython\\core\\ultratb.py\", line 1192, in structured_traceback\n",
      "  File \"c:\\Users\\sgale\\miniconda3\\envs\\rateMyProfessor\\Lib\\site-packages\\IPython\\core\\ultratb.py\", line 1082, in format_exception_as_a_whole\n",
      "  File \"c:\\Users\\sgale\\miniconda3\\envs\\rateMyProfessor\\Lib\\site-packages\\IPython\\core\\ultratb.py\", line 1133, in get_records\n",
      "  File \"c:\\Users\\sgale\\miniconda3\\envs\\rateMyProfessor\\Lib\\site-packages\\pygments\\styles\\__init__.py\", line 47, in get_style_by_name\n",
      "pygments.util.ClassNotFound: Could not find style module 'pygments.styles.default', though it should be builtin.\n"
     ]
    }
   ],
   "source": [
    "pc = Pinecone(api_key=os.getenv(\"PINECONE_API_KEY\"))\n",
    "pc.create_index(name=\"rag\", dimension=1536, metric=\"cosine\", spec=ServerlessSpec(\"aws\", \"us-east-1\"))"
   ]
  },
  {
   "cell_type": "code",
   "execution_count": null,
   "metadata": {},
   "outputs": [
    {
     "data": {
      "text/plain": [
       "20"
      ]
     },
     "execution_count": 38,
     "metadata": {},
     "output_type": "execute_result"
    }
   ],
   "source": [
    "import json \n",
    "data = json.load(open(\"reviews.json\"))\n",
    "data['reviews']\n",
    "len(data['reviews'])"
   ]
  },
  {
   "cell_type": "code",
   "execution_count": null,
   "metadata": {},
   "outputs": [],
   "source": [
    "processed_data = [] \n",
    "client = OpenAI(\n",
    "        api_key= os.getenv(\"OPENAI_API_KEY\")\n",
    ")\n",
    "\n",
    "for review in data['reviews']:\n",
    "    response = client.embeddings.create(\n",
    "        input=review[\"review\"], \n",
    "        model='text-embedding-3-small'\n",
    "    )\n",
    "    embeddings = response.data[0].embedding \n",
    "    processed_data.append({ \n",
    "        \"values\" : embeddings, \n",
    "        \"id\": review[\"professor\"], \n",
    "        \"metadata\" : {\n",
    "            \"review\" : review[\"review\"],\n",
    "            \"subject\" : review[\"subject\"],\n",
    "            \"stars\" : review[\"stars\"] \n",
    "        }\n",
    "        })"
   ]
  },
  {
   "cell_type": "code",
   "execution_count": null,
   "metadata": {},
   "outputs": [
    {
     "data": {
      "text/plain": [
       "{'upserted_count': 20}"
      ]
     },
     "execution_count": 40,
     "metadata": {},
     "output_type": "execute_result"
    }
   ],
   "source": [
    "index = pc.Index('rag')\n",
    "index.upsert( \n",
    "            vectors=processed_data, \n",
    "            namespace=\"ns1\"\n",
    "             )"
   ]
  },
  {
   "cell_type": "code",
   "execution_count": null,
   "metadata": {},
   "outputs": [
    {
     "data": {
      "text/plain": [
       "{'dimension': 1536,\n",
       " 'index_fullness': 0.0,\n",
       " 'namespaces': {'ns1': {'vector_count': 20}},\n",
       " 'total_vector_count': 20}"
      ]
     },
     "execution_count": 41,
     "metadata": {},
     "output_type": "execute_result"
    }
   ],
   "source": [
    "index.describe_index_stats()"
   ]
  },
  {
   "cell_type": "code",
   "execution_count": null,
   "metadata": {},
   "outputs": [],
   "source": []
  }
 ],
 "metadata": {
  "kernelspec": {
   "display_name": "rateMyProfessor",
   "language": "python",
   "name": "python3"
  },
  "language_info": {
   "codemirror_mode": {
    "name": "ipython",
    "version": 3
   },
   "file_extension": ".py",
   "mimetype": "text/x-python",
   "name": "python",
   "nbconvert_exporter": "python",
   "pygments_lexer": "ipython3",
   "version": "3.12.5"
  }
 },
 "nbformat": 4,
 "nbformat_minor": 2
}
