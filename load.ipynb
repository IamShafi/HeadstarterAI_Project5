{
 "cells": [
  {
   "cell_type": "code",
   "execution_count": 21,
   "metadata": {},
   "outputs": [],
   "source": [
    "\n",
    "\n",
    "from dotenv import load_dotenv\n",
    "load_dotenv(dotenv_path=\".env.local\")\n",
    "import os \n",
    "from  openai import OpenAI\n",
    "from pinecone import Pinecone, ServerlessSpec\n",
    "\n"
   ]
  },
  {
   "cell_type": "code",
   "execution_count": 18,
   "metadata": {},
   "outputs": [],
   "source": [
    "pc = Pinecone(api_key=os.getenv(\"PINECONE_API_KEY\"))\n",
    "pc.create_index(name=\"rag\", dimension=1536, metric=\"cosine\", spec=ServerlessSpec(\"aws\", \"us-east-1\"))"
   ]
  },
  {
   "cell_type": "code",
   "execution_count": 20,
   "metadata": {},
   "outputs": [
    {
     "data": {
      "text/plain": [
       "20"
      ]
     },
     "execution_count": 20,
     "metadata": {},
     "output_type": "execute_result"
    }
   ],
   "source": [
    "import json \n",
    "data = json.load(open(\"reviews.json\"))\n",
    "data['reviews']\n",
    "len(data['reviews'])"
   ]
  },
  {
   "cell_type": "code",
   "execution_count": 23,
   "metadata": {},
   "outputs": [],
   "source": [
    "processed_data = [] \n",
    "client = OpenAI()\n",
    "\n",
    "for review in data['reviews']:\n",
    "    response = client.embeddings.create(\n",
    "        input=review[\"review\"], \n",
    "        model='text-embedding-3-small'\n",
    "    )\n",
    "    embeddings = response.data[0].embedding \n",
    "    processed_data.append({ \n",
    "        \"values\" : embeddings, \n",
    "        \"id\": review[\"professor\"], \n",
    "        \"metadata\" : {\n",
    "            \"review\" : review[\"review\"],\n",
    "            \"subject\" : review[\"subject\"],\n",
    "            \"stars\" : review[\"stars\"] \n",
    "        }\n",
    "        })"
   ]
  },
  {
   "cell_type": "code",
   "execution_count": 25,
   "metadata": {},
   "outputs": [],
   "source": [
    "index = pc.Index('rag')\n",
    "index.upsert( \n",
    "             vectors=processed_data, \n",
    "             namespace=\"ns1\"\n",
    "             )"
   ]
  }
 ],
 "metadata": {
  "kernelspec": {
   "display_name": "rateMyProfessor",
   "language": "python",
   "name": "python3"
  },
  "language_info": {
   "codemirror_mode": {
    "name": "ipython",
    "version": 3
   },
   "file_extension": ".py",
   "mimetype": "text/x-python",
   "name": "python",
   "nbconvert_exporter": "python",
   "pygments_lexer": "ipython3",
   "version": "3.12.5"
  }
 },
 "nbformat": 4,
 "nbformat_minor": 2
}
